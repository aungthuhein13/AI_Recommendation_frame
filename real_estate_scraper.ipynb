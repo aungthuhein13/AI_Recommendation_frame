{
  "nbformat": 4,
  "nbformat_minor": 0,
  "metadata": {
    "colab": {
      "provenance": [],
      "authorship_tag": "ABX9TyPTn2GhDZby8M1/7QLViHdb"
    },
    "kernelspec": {
      "name": "python3",
      "display_name": "Python 3"
    },
    "language_info": {
      "name": "python"
    }
  },
  "cells": [
    {
      "cell_type": "code",
      "source": [],
      "metadata": {
        "id": "D9G5eo5mpwof"
      },
      "execution_count": null,
      "outputs": []
    }
  ]
}